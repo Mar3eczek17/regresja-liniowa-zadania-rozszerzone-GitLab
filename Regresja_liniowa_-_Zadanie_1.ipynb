{
 "cells": [
  {
   "cell_type": "markdown",
   "metadata": {},
   "source": [
    "## Zadania"
   ]
  },
  {
   "cell_type": "markdown",
   "metadata": {},
   "source": [
    "### Regresja liniowa - Zadanie 1"
   ]
  },
  {
   "cell_type": "markdown",
   "metadata": {},
   "source": [
    "Uwaga: treść zadania nawiązuje do analiz tworzonych podczas lekcji - potraktuj je jako ciąg dalszy tych analiz.\n",
    "\n",
    "\n",
    "Zbuduj model używając tylko jednej zmiennej dla pozostałych atrybutów i wybierz ten, który uzyskuje najlepsze wyniki pomiaru jakości regresji. Następnie porównaj najlepiej działający model z regresją wyuczoną na wszystkich zmiennych objaśniających."
   ]
  },
  {
   "cell_type": "code",
   "execution_count": 1,
   "metadata": {},
   "outputs": [],
   "source": [
    "import pandas as pd\n",
    "import numpy as np\n",
    "import matplotlib.pyplot as plt\n",
    "from sklearn.linear_model import LinearRegression\n",
    "from sklearn import datasets"
   ]
  },
  {
   "cell_type": "code",
   "execution_count": 2,
   "metadata": {},
   "outputs": [
    {
     "data": {
      "text/html": [
       "<div>\n",
       "<style scoped>\n",
       "    .dataframe tbody tr th:only-of-type {\n",
       "        vertical-align: middle;\n",
       "    }\n",
       "\n",
       "    .dataframe tbody tr th {\n",
       "        vertical-align: top;\n",
       "    }\n",
       "\n",
       "    .dataframe thead th {\n",
       "        text-align: right;\n",
       "    }\n",
       "</style>\n",
       "<table border=\"1\" class=\"dataframe\">\n",
       "  <thead>\n",
       "    <tr style=\"text-align: right;\">\n",
       "      <th></th>\n",
       "      <th>AGE</th>\n",
       "      <th>SEX</th>\n",
       "      <th>BMI</th>\n",
       "      <th>BP</th>\n",
       "      <th>S1</th>\n",
       "      <th>S2</th>\n",
       "      <th>S3</th>\n",
       "      <th>S4</th>\n",
       "      <th>S5</th>\n",
       "      <th>S6</th>\n",
       "      <th>Y</th>\n",
       "    </tr>\n",
       "  </thead>\n",
       "  <tbody>\n",
       "    <tr>\n",
       "      <th>0</th>\n",
       "      <td>59</td>\n",
       "      <td>2</td>\n",
       "      <td>32.1</td>\n",
       "      <td>101.0</td>\n",
       "      <td>157</td>\n",
       "      <td>93.2</td>\n",
       "      <td>38.0</td>\n",
       "      <td>4.0</td>\n",
       "      <td>4.8598</td>\n",
       "      <td>87</td>\n",
       "      <td>151</td>\n",
       "    </tr>\n",
       "    <tr>\n",
       "      <th>1</th>\n",
       "      <td>48</td>\n",
       "      <td>1</td>\n",
       "      <td>21.6</td>\n",
       "      <td>87.0</td>\n",
       "      <td>183</td>\n",
       "      <td>103.2</td>\n",
       "      <td>70.0</td>\n",
       "      <td>3.0</td>\n",
       "      <td>3.8918</td>\n",
       "      <td>69</td>\n",
       "      <td>75</td>\n",
       "    </tr>\n",
       "    <tr>\n",
       "      <th>2</th>\n",
       "      <td>72</td>\n",
       "      <td>2</td>\n",
       "      <td>30.5</td>\n",
       "      <td>93.0</td>\n",
       "      <td>156</td>\n",
       "      <td>93.6</td>\n",
       "      <td>41.0</td>\n",
       "      <td>4.0</td>\n",
       "      <td>4.6728</td>\n",
       "      <td>85</td>\n",
       "      <td>141</td>\n",
       "    </tr>\n",
       "    <tr>\n",
       "      <th>3</th>\n",
       "      <td>24</td>\n",
       "      <td>1</td>\n",
       "      <td>25.3</td>\n",
       "      <td>84.0</td>\n",
       "      <td>198</td>\n",
       "      <td>131.4</td>\n",
       "      <td>40.0</td>\n",
       "      <td>5.0</td>\n",
       "      <td>4.8903</td>\n",
       "      <td>89</td>\n",
       "      <td>206</td>\n",
       "    </tr>\n",
       "    <tr>\n",
       "      <th>4</th>\n",
       "      <td>50</td>\n",
       "      <td>1</td>\n",
       "      <td>23.0</td>\n",
       "      <td>101.0</td>\n",
       "      <td>192</td>\n",
       "      <td>125.4</td>\n",
       "      <td>52.0</td>\n",
       "      <td>4.0</td>\n",
       "      <td>4.2905</td>\n",
       "      <td>80</td>\n",
       "      <td>135</td>\n",
       "    </tr>\n",
       "  </tbody>\n",
       "</table>\n",
       "</div>"
      ],
      "text/plain": [
       "   AGE  SEX   BMI     BP   S1     S2    S3   S4      S5  S6    Y\n",
       "0   59    2  32.1  101.0  157   93.2  38.0  4.0  4.8598  87  151\n",
       "1   48    1  21.6   87.0  183  103.2  70.0  3.0  3.8918  69   75\n",
       "2   72    2  30.5   93.0  156   93.6  41.0  4.0  4.6728  85  141\n",
       "3   24    1  25.3   84.0  198  131.4  40.0  5.0  4.8903  89  206\n",
       "4   50    1  23.0  101.0  192  125.4  52.0  4.0  4.2905  80  135"
      ]
     },
     "execution_count": 2,
     "metadata": {},
     "output_type": "execute_result"
    }
   ],
   "source": [
    "# Dane:https://www4.stat.ncsu.edu/~boos/var.select/diabetes.html\n",
    "# \"Ten baseline variables, age, sex, body mass index, average blood pressure, \n",
    "# and six blood serum measurements were obtained for each of n = 442 diabetes patients, \n",
    "# as well as the response of interest, a quantitative measure of disease progression one year after baseline.\"\n",
    "# diabetes = datasets.load_diabetes()\n",
    "# data = diabetes.data # nalezy je przekształcić do pandasowego dataframe'u\n",
    "data = pd.read_csv('diabetes.csv')\n",
    "data.head()\n",
    "\n",
    "# Y - a quantitative measure of disease progression one year after baseline\n",
    "# Y - ilościowa miara progresji choroby rok po punkcie początkowym"
   ]
  },
  {
   "cell_type": "code",
   "execution_count": 3,
   "metadata": {},
   "outputs": [
    {
     "data": {
      "text/plain": [
       "<matplotlib.collections.PathCollection at 0x7f840a8f6990>"
      ]
     },
     "execution_count": 3,
     "metadata": {},
     "output_type": "execute_result"
    },
    {
     "data": {
      "image/png": "[encoded data removed]",
      "text/plain": [
       "<Figure size 432x288 with 1 Axes>"
      ]
     },
     "metadata": {
      "needs_background": "light"
     },
     "output_type": "display_data"
    }
   ],
   "source": [
    "# plt.scatter(data.BMI, data.Y,  color='red')\n",
    "plt.scatter(data.BP, data.Y,  color='blue')\n",
    "# plt.scatter(data.AGE, data.Y, color='orange')\n",
    "# plt.scatter(data.S5, data.Y, color='gray')\n",
    "# plt.scatter(data.SEX, data.Y, color='violet')\n",
    "# plt.scatter(data.S1, data.Y, color='brown')\n",
    "# plt.scatter(data.S2, data.Y, color='green')\n",
    "# plt.scatter(data.S3, data.Y, color='black')\n",
    "# plt.scatter(data.S4, data.Y, color='yellow')\n",
    "# plt.scatter(data.S6, data.Y, color='olive')"
   ]
  },
  {
   "cell_type": "code",
   "execution_count": 4,
   "metadata": {},
   "outputs": [
    {
     "name": "stdout",
     "output_type": "stream",
     "text": [
      "0.18788875071891972\n",
      "0.04306199845160534\n",
      "0.4414817585625712\n",
      "0.21202248101455065\n",
      "0.17405358696874254\n",
      "-0.39478925067091863\n",
      "0.43045288474477267\n",
      "0.382483484248581\n"
     ]
    }
   ],
   "source": [
    "print(data.AGE.corr(data.Y)) # pandas\n",
    "print(data.SEX.corr(data.Y)) # pandas\n",
    "print(data.BP.corr(data.Y)) # pandas\n",
    "print(data.S1.corr(data.Y)) # pandas\n",
    "print(data.S2.corr(data.Y) )# pandas\n",
    "print(data.S3.corr(data.Y)) # pandas\n",
    "print(data.S4.corr(data.Y) )# pandas\n",
    "print(data.S6.corr(data.Y)) # pandas"
   ]
  },
  {
   "cell_type": "code",
   "execution_count": 5,
   "metadata": {},
   "outputs": [],
   "source": [
    "corr = data.corr()\n",
    "# corr"
   ]
  },
  {
   "cell_type": "code",
   "execution_count": 13,
   "metadata": {},
   "outputs": [
    {
     "data": {
      "text/plain": [
       "<matplotlib.axes._subplots.AxesSubplot at 0x7f84076c0990>"
      ]
     },
     "execution_count": 13,
     "metadata": {},
     "output_type": "execute_result"
    },
    {
     "data": {
      "image/png": "[encoded data removed]",
      "text/plain": [
       "<Figure size 432x288 with 2 Axes>"
      ]
     },
     "metadata": {
      "needs_background": "light"
     },
     "output_type": "display_data"
    }
   ],
   "source": [
    "import seaborn as sns\n",
    "sns.heatmap(corr, \n",
    "         xticklabels=corr.columns, \n",
    "         yticklabels=corr.columns)"
   ]
  },
  {
   "cell_type": "code",
   "execution_count": 7,
   "metadata": {},
   "outputs": [
    {
     "data": {
      "text/plain": [
       "False"
      ]
     },
     "execution_count": 7,
     "metadata": {},
     "output_type": "execute_result"
    }
   ],
   "source": [
    "data.isnull().values.any()"
   ]
  },
  {
   "cell_type": "code",
   "execution_count": 8,
   "metadata": {},
   "outputs": [],
   "source": [
    "dataset = data.iloc[:,:-1] # wyodrebniamy zmienne objaśniające bez targetu\n",
    "# dataset"
   ]
  },
  {
   "cell_type": "code",
   "execution_count": 9,
   "metadata": {},
   "outputs": [],
   "source": [
    "# Wyodrębniamy dane treningowe i testowe\n",
    "from sklearn.model_selection import train_test_split\n",
    "X_train, X_test, y_train, y_test = train_test_split(data[['BP']], data.Y, test_size=0.7, random_state=0)\n",
    "# print(X_train, X_test, y_train, y_test)"
   ]
  },
  {
   "cell_type": "code",
   "execution_count": 11,
   "metadata": {},
   "outputs": [
    {
     "data": {
      "text/plain": [
       "0.17165634082461081"
      ]
     },
     "execution_count": 11,
     "metadata": {},
     "output_type": "execute_result"
    }
   ],
   "source": [
    "# 1. Tworzymy obiekt modelu\n",
    "model = LinearRegression()\n",
    "# 2. Trenujemy model na danych treningowych\n",
    "model.fit(X_train, y_train)\n",
    "# 3. Sprawdzamy poprawność działania modelu - model dokonuje predykcji na danych testowych i porównuje jej wyniki\n",
    "# z prawdziwymi etykietami tych danych - zwraca R^2 \n",
    "model.score(X_test, y_test)"
   ]
  },
  {
   "cell_type": "code",
   "execution_count": 14,
   "metadata": {},
   "outputs": [
    {
     "data": {
      "text/plain": [
       "array([2.7755137])"
      ]
     },
     "execution_count": 14,
     "metadata": {},
     "output_type": "execute_result"
    }
   ],
   "source": [
    "model.coef_ # Podejrzyjmy współczynniki modelu"
   ]
  },
  {
   "cell_type": "code",
   "execution_count": 15,
   "metadata": {},
   "outputs": [
    {
     "data": {
      "text/plain": [
       "-114.42573768460622"
      ]
     },
     "execution_count": 15,
     "metadata": {},
     "output_type": "execute_result"
    }
   ],
   "source": [
    "model.intercept_ # Punkt przecięcia prostej z osią Y"
   ]
  },
  {
   "cell_type": "code",
   "execution_count": 16,
   "metadata": {},
   "outputs": [],
   "source": [
    "predykcje = model.predict(X_test)"
   ]
  },
  {
   "cell_type": "code",
   "execution_count": 17,
   "metadata": {},
   "outputs": [
    {
     "data": {
      "text/plain": [
       "array([204.75833732, 190.88076884, 182.55422776, 115.94189906,\n",
       "       221.4114195 , 143.69703602, 140.92152232, 188.10525515,\n",
       "       127.04395384, 160.35011819, 129.81946754, 135.37049493,\n",
       "       110.39087167,  68.75816623, 204.75833732, 149.24806341,\n",
       "       174.22768667, 127.04395384, 154.7990908 , 210.30936471,\n",
       "       204.75833732, 102.06433058, 193.65628254, 113.16638536,\n",
       "       115.94189906, 129.81946754, 232.51347428, 102.06433058,\n",
       "       185.32974145, 140.92152232, 235.28898798, 121.49292645,\n",
       "       143.69703602, 115.94189906, 135.37049493, 165.90114558,\n",
       "       138.14600863, 196.43179624, 154.7990908 , 175.14360619,\n",
       "        91.87819532, 168.67665928, 107.61535797, 123.35252063,\n",
       "       182.55422776, 115.94189906, 165.90114558, 154.7990908 ,\n",
       "       133.51090075, 249.16655645, 171.45217297, 135.37049493,\n",
       "       221.4114195 , 121.49292645, 218.6359058 , 213.08487841,\n",
       "       143.69703602, 115.94189906, 143.69703602, 179.77871406,\n",
       "       127.04395384, 154.7990908 , 103.92392476, 140.92152232,\n",
       "       129.81946754, 135.37049493,  88.1867621 , 110.39087167,\n",
       "       132.59498123,  82.63573471, 115.94189906, 157.5746045 ,\n",
       "        88.1867621 , 107.61535797, 143.69703602, 196.43179624,\n",
       "        93.73778949, 188.10525515, 165.90114558, 199.20730993,\n",
       "       188.10525515, 188.10525515, 118.71741276, 199.20730993,\n",
       "        88.1867621 , 129.81946754, 121.49292645, 143.69703602,\n",
       "       143.69703602, 193.65628254, 127.04395384, 174.22768667,\n",
       "        79.86022102, 143.69703602, 165.90114558, 135.37049493,\n",
       "       188.10525515, 171.45217297, 121.49292645, 115.94189906,\n",
       "       171.45217297, 132.59498123, 188.10525515, 141.83744184,\n",
       "       190.88076884, 201.98282363,  94.65370901, 135.37049493,\n",
       "       140.92152232, 115.94189906, 196.43179624, 113.16638536,\n",
       "       118.71741276, 102.06433058, 138.14600863, 115.02597954,\n",
       "       201.98282363, 127.04395384, 215.86039211, 199.20730993,\n",
       "       127.04395384, 115.94189906, 118.71741276, 118.71741276,\n",
       "       146.47254971, 124.26844015, 149.24806341, 115.94189906,\n",
       "        99.28881689, 144.61295554, 165.90114558, 171.45217297,\n",
       "       107.61535797, 139.06192815,  57.65611145, 102.9802501 ,\n",
       "       210.30936471, 127.04395384, 113.16638536,  79.86022102,\n",
       "        99.28881689, 118.71741276, 143.69703602,  88.1867621 ,\n",
       "       107.61535797, 132.59498123,  65.98265254, 124.26844015,\n",
       "       102.9802501 , 152.0235771 , 226.96244689, 118.71741276,\n",
       "       199.20730993, 168.67665928, 198.29139041, 113.16638536,\n",
       "        96.51330319, 165.90114558, 121.49292645, 195.51587672,\n",
       "       199.20730993, 182.55422776, 199.20730993, 121.49292645,\n",
       "       115.94189906, 148.33214389, 193.65628254, 149.24806341,\n",
       "       104.83984428, 143.69703602, 132.59498123, 199.20730993,\n",
       "       195.51587672, 157.5746045 , 132.59498123, 177.00320037,\n",
       "       179.77871406, 113.16638536, 204.75833732, 146.47254971,\n",
       "       160.35011819, 157.5746045 , 115.94189906, 127.04395384,\n",
       "       224.18693319, 102.06433058, 121.49292645, 127.04395384,\n",
       "       127.04395384, 121.49292645, 210.30936471, 132.59498123,\n",
       "       115.94189906, 146.47254971, 104.83984428,  88.1867621 ,\n",
       "       102.06433058, 154.7990908 , 127.95987336, 149.24806341,\n",
       "       104.83984428, 178.86279454, 176.08728085, 143.69703602,\n",
       "       124.26844015, 177.00320037, 124.26844015, 143.69703602,\n",
       "       207.53385102, 172.36809249, 105.7557638 , 121.49292645,\n",
       "       163.12563189, 135.37049493, 110.39087167, 146.47254971,\n",
       "       226.96244689, 190.88076884,  98.37289737, 154.7990908 ,\n",
       "       199.20730993, 104.83984428,  93.73778949, 190.88076884,\n",
       "       171.45217297, 138.14600863,  96.51330319, 229.73796058,\n",
       "       143.69703602, 115.94189906, 143.69703602, 182.55422776,\n",
       "       149.24806341, 143.69703602,  88.1867621 , 174.22768667,\n",
       "       210.30936471, 177.00320037, 146.47254971, 177.00320037,\n",
       "       165.90114558, 102.06433058, 226.96244689, 143.69703602,\n",
       "       149.24806341, 129.81946754, 108.53127749, 102.06433058,\n",
       "       171.45217297, 185.32974145, 158.49052402, 138.14600863,\n",
       "       160.35011819, 134.45457541, 129.81946754, 115.94189906,\n",
       "       188.10525515,  96.51330319, 152.0235771 , 127.04395384,\n",
       "       118.71741276, 113.16638536, 165.90114558, 192.74036302,\n",
       "       127.04395384, 165.90114558, 235.28898798, 154.7990908 ,\n",
       "       132.59498123, 107.61535797,  99.28881689, 204.75833732,\n",
       "       110.39087167, 162.20971237, 227.87836641, 129.81946754,\n",
       "       110.39087167, 204.75833732, 188.10525515, 135.37049493,\n",
       "       150.16398293, 143.69703602, 190.88076884,  92.82186997,\n",
       "       102.06433058, 168.67665928, 160.35011819, 196.43179624,\n",
       "       193.65628254, 115.94189906, 127.04395384, 127.04395384,\n",
       "       254.71758385, 118.71741276, 146.47254971, 146.47254971,\n",
       "       179.77871406,  85.41124841,  88.1867621 , 129.81946754,\n",
       "       165.90114558, 148.33214389, 157.5746045 , 143.69703602,\n",
       "       152.0235771 , 193.65628254, 124.26844015, 182.55422776,\n",
       "       152.0235771 , 114.08230488])"
      ]
     },
     "execution_count": 17,
     "metadata": {},
     "output_type": "execute_result"
    }
   ],
   "source": [
    "predykcje"
   ]
  },
  {
   "cell_type": "code",
   "execution_count": 18,
   "metadata": {},
   "outputs": [
    {
     "name": "stdout",
     "output_type": "stream",
     "text": [
      "Mean squared error: 4655.78\n"
     ]
    }
   ],
   "source": [
    "# Mean squared error\n",
    "print(\"Mean squared error: %.2f\"\n",
    "      % np.mean((model.predict(X_test) - y_test) ** 2))"
   ]
  },
  {
   "cell_type": "code",
   "execution_count": 21,
   "metadata": {},
   "outputs": [
    {
     "data": {
      "image/png": "[encoded data removed]",
      "text/plain": [
       "<Figure size 432x288 with 1 Axes>"
      ]
     },
     "metadata": {
      "needs_background": "light"
     },
     "output_type": "display_data"
    }
   ],
   "source": [
    "plt.scatter(X_test, y_test,  color='red')\n",
    "plt.plot(X_test, predykcje, color='blue', linewidth=3)\n",
    "plt.show()"
   ]
  },
  {
   "cell_type": "code",
   "execution_count": 22,
   "metadata": {},
   "outputs": [],
   "source": [
    "# Wyodrębniamy dane treningowe i testowe\n",
    "from sklearn.model_selection import train_test_split\n",
    "X_train, X_test, y_train, y_test = train_test_split(data[\n",
    "    ['AGE', 'SEX', 'BMI', 'BP', 'S1', 'S2', 'S3', 'S4', 'S5', 'S6']], data.Y, test_size=0.2, random_state=0)"
   ]
  },
  {
   "cell_type": "code",
   "execution_count": 23,
   "metadata": {},
   "outputs": [
    {
     "data": {
      "text/plain": [
       "0.33223321731061806"
      ]
     },
     "execution_count": 23,
     "metadata": {},
     "output_type": "execute_result"
    }
   ],
   "source": [
    "# 1. Tworzymy obiekt modelu\n",
    "model1 = LinearRegression()\n",
    "# 2. Trenujemy model na danych treningowych\n",
    "model1.fit(X_train, y_train)\n",
    "# 3. Sprawdzamy poprawność działania modelu - model dokonuje predykcji na danych testowych i porównuje jej wyniki\n",
    "# z prawdziwymi etykietami tych danych - zwraca R^2 \n",
    "model1.score(X_test, y_test)"
   ]
  },
  {
   "cell_type": "code",
   "execution_count": 24,
   "metadata": {},
   "outputs": [
    {
     "data": {
      "text/plain": [
       "<matplotlib.collections.PathCollection at 0x7f840749d610>"
      ]
     },
     "execution_count": 24,
     "metadata": {},
     "output_type": "execute_result"
    },
    {
     "data": {
      "image/png": "[encoded data removed]",
      "text/plain": [
       "<Figure size 432x288 with 1 Axes>"
      ]
     },
     "metadata": {
      "needs_background": "light"
     },
     "output_type": "display_data"
    }
   ],
   "source": [
    "predykcje = model1.predict(X_test)\n",
    "plt.scatter(y_test, predykcje)"
   ]
  },
  {
   "cell_type": "code",
   "execution_count": 29,
   "metadata": {},
   "outputs": [],
   "source": [
    "from sklearn.model_selection import train_test_split\n",
    "X_train, X_test, y_train, y_test = train_test_split(dataset, data.Y, test_size=0.2, random_state=0)"
   ]
  },
  {
   "cell_type": "code",
   "execution_count": 30,
   "metadata": {},
   "outputs": [
    {
     "data": {
      "text/plain": [
       "0.33223321731061806"
      ]
     },
     "execution_count": 30,
     "metadata": {},
     "output_type": "execute_result"
    }
   ],
   "source": [
    "# 1. Tworzymy obiekt modelu\n",
    "model2 = LinearRegression()\n",
    "# 2. Trenujemy model na danych treningowych\n",
    "model2.fit(X_train, y_train)\n",
    "# 3. Sprawdzamy poprawność działania modelu - model dokonuje predykcji na danych testowych i porównuje jej wyniki\n",
    "# z prawdziwymi etykietami tych danych - zwraca R^2 \n",
    "model2.score(X_test, y_test)"
   ]
  },
  {
   "cell_type": "code",
   "execution_count": 31,
   "metadata": {},
   "outputs": [
    {
     "data": {
      "text/plain": [
       "Text(0.5, 0, 'Importance')"
      ]
     },
     "execution_count": 31,
     "metadata": {},
     "output_type": "execute_result"
    },
    {
     "data": {
      "image/png": "[encoded data removed]",
      "text/plain": [
       "<Figure size 792x432 with 1 Axes>"
      ]
     },
     "metadata": {
      "needs_background": "light"
     },
     "output_type": "display_data"
    }
   ],
   "source": [
    "# Wizualizacja współczynników zmiennych w przypadku więcej niż jednej zmiennej objaśniającej\n",
    "coeff = list(model2.coef_)\n",
    "labels = list(X_train.columns)\n",
    "features = pd.DataFrame()\n",
    "features['Features'] = labels\n",
    "features['importance'] = coeff\n",
    "features.sort_values(by=['importance'], ascending=True, inplace=True)\n",
    "features['positive'] = features['importance'] > 0\n",
    "features.set_index('Features', inplace=True)\n",
    "features.importance.plot(kind='barh', figsize=(11, 6),color = features.positive.map({True: 'blue', False: 'red'}))\n",
    "plt.xlabel('Importance')"
   ]
  },
  {
   "cell_type": "code",
   "execution_count": null,
   "metadata": {},
   "outputs": [],
   "source": []
  }
 ],
 "metadata": {
  "kernelspec": {
   "display_name": "Python 3",
   "language": "python",
   "name": "python3"
  },
  "language_info": {
   "codemirror_mode": {
    "name": "ipython",
    "version": 3
   },
   "file_extension": ".py",
   "mimetype": "text/x-python",
   "name": "python",
   "nbconvert_exporter": "python",
   "pygments_lexer": "ipython3",
   "version": "3.7.6"
  }
 },
 "nbformat": 4,
 "nbformat_minor": 4
}
