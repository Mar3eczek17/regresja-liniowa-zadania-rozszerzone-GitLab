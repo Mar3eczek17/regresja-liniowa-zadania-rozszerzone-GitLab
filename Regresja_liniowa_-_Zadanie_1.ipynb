{
 "cells": [
  {
   "cell_type": "markdown",
   "metadata": {},
   "source": [
    "## Zadania"
   ]
  },
  {
   "cell_type": "markdown",
   "metadata": {},
   "source": [
    "### Regresja liniowa - Zadanie 1"
   ]
  },
  {
   "cell_type": "markdown",
   "metadata": {},
   "source": [
    "Uwaga: treść zadania nawiązuje do analiz tworzonych podczas lekcji - potraktuj je jako ciąg dalszy tych analiz.\n",
    "\n",
    "\n",
    "Zbuduj model używając tylko jednej zmiennej dla pozostałych atrybutów i wybierz ten, który uzyskuje najlepsze wyniki pomiaru jakości regresji. Następnie porównaj najlepiej działający model z regresją wyuczoną na wszystkich zmiennych objaśniających."
   ]
  },
  {
   "cell_type": "code",
   "execution_count": 1,
   "metadata": {},
   "outputs": [],
   "source": [
    "# Importuj biblioteki Pythona\n",
    "\n",
    "import pandas as pd\n",
    "import numpy as np\n",
    "import matplotlib.pyplot as plt\n",
    "from sklearn.linear_model import LinearRegression\n",
    "from sklearn import datasets"
   ]
  },
  {
   "cell_type": "code",
   "execution_count": 2,
   "metadata": {},
   "outputs": [
    {
     "data": {
      "text/html": [
       "<div>\n",
       "<style scoped>\n",
       "    .dataframe tbody tr th:only-of-type {\n",
       "        vertical-align: middle;\n",
       "    }\n",
       "\n",
       "    .dataframe tbody tr th {\n",
       "        vertical-align: top;\n",
       "    }\n",
       "\n",
       "    .dataframe thead th {\n",
       "        text-align: right;\n",
       "    }\n",
       "</style>\n",
       "<table border=\"1\" class=\"dataframe\">\n",
       "  <thead>\n",
       "    <tr style=\"text-align: right;\">\n",
       "      <th></th>\n",
       "      <th>AGE</th>\n",
       "      <th>SEX</th>\n",
       "      <th>BMI</th>\n",
       "      <th>BP</th>\n",
       "      <th>S1</th>\n",
       "      <th>S2</th>\n",
       "      <th>S3</th>\n",
       "      <th>S4</th>\n",
       "      <th>S5</th>\n",
       "      <th>S6</th>\n",
       "      <th>Y</th>\n",
       "    </tr>\n",
       "  </thead>\n",
       "  <tbody>\n",
       "    <tr>\n",
       "      <th>0</th>\n",
       "      <td>59</td>\n",
       "      <td>2</td>\n",
       "      <td>32.1</td>\n",
       "      <td>101.0</td>\n",
       "      <td>157</td>\n",
       "      <td>93.2</td>\n",
       "      <td>38.0</td>\n",
       "      <td>4.0</td>\n",
       "      <td>4.8598</td>\n",
       "      <td>87</td>\n",
       "      <td>151</td>\n",
       "    </tr>\n",
       "    <tr>\n",
       "      <th>1</th>\n",
       "      <td>48</td>\n",
       "      <td>1</td>\n",
       "      <td>21.6</td>\n",
       "      <td>87.0</td>\n",
       "      <td>183</td>\n",
       "      <td>103.2</td>\n",
       "      <td>70.0</td>\n",
       "      <td>3.0</td>\n",
       "      <td>3.8918</td>\n",
       "      <td>69</td>\n",
       "      <td>75</td>\n",
       "    </tr>\n",
       "    <tr>\n",
       "      <th>2</th>\n",
       "      <td>72</td>\n",
       "      <td>2</td>\n",
       "      <td>30.5</td>\n",
       "      <td>93.0</td>\n",
       "      <td>156</td>\n",
       "      <td>93.6</td>\n",
       "      <td>41.0</td>\n",
       "      <td>4.0</td>\n",
       "      <td>4.6728</td>\n",
       "      <td>85</td>\n",
       "      <td>141</td>\n",
       "    </tr>\n",
       "    <tr>\n",
       "      <th>3</th>\n",
       "      <td>24</td>\n",
       "      <td>1</td>\n",
       "      <td>25.3</td>\n",
       "      <td>84.0</td>\n",
       "      <td>198</td>\n",
       "      <td>131.4</td>\n",
       "      <td>40.0</td>\n",
       "      <td>5.0</td>\n",
       "      <td>4.8903</td>\n",
       "      <td>89</td>\n",
       "      <td>206</td>\n",
       "    </tr>\n",
       "    <tr>\n",
       "      <th>4</th>\n",
       "      <td>50</td>\n",
       "      <td>1</td>\n",
       "      <td>23.0</td>\n",
       "      <td>101.0</td>\n",
       "      <td>192</td>\n",
       "      <td>125.4</td>\n",
       "      <td>52.0</td>\n",
       "      <td>4.0</td>\n",
       "      <td>4.2905</td>\n",
       "      <td>80</td>\n",
       "      <td>135</td>\n",
       "    </tr>\n",
       "  </tbody>\n",
       "</table>\n",
       "</div>"
      ],
      "text/plain": [
       "   AGE  SEX   BMI     BP   S1     S2    S3   S4      S5  S6    Y\n",
       "0   59    2  32.1  101.0  157   93.2  38.0  4.0  4.8598  87  151\n",
       "1   48    1  21.6   87.0  183  103.2  70.0  3.0  3.8918  69   75\n",
       "2   72    2  30.5   93.0  156   93.6  41.0  4.0  4.6728  85  141\n",
       "3   24    1  25.3   84.0  198  131.4  40.0  5.0  4.8903  89  206\n",
       "4   50    1  23.0  101.0  192  125.4  52.0  4.0  4.2905  80  135"
      ]
     },
     "execution_count": 2,
     "metadata": {},
     "output_type": "execute_result"
    }
   ],
   "source": [
    "# Dane:https://www4.stat.ncsu.edu/~boos/var.select/diabetes.html\n",
    "# \"Ten baseline variables, age, sex, body mass index, average blood pressure, \n",
    "# and six blood serum measurements were obtained for each of n = 442 diabetes patients, \n",
    "# as well as the response of interest, a quantitative measure of disease progression one year after baseline.\"\n",
    "# diabetes = datasets.load_diabetes()\n",
    "# data = diabetes.data # nalezy je przekształcić do pandasowego dataframe'u\n",
    "\n",
    "# Prześlij dane i utwórz pandy DataFrame\n",
    "data = pd.read_csv('diabetes.csv')\n",
    "data.head()"
   ]
  },
  {
   "cell_type": "code",
   "execution_count": 3,
   "metadata": {},
   "outputs": [
    {
     "data": {
      "text/plain": [
       "['AGE', 'SEX', 'BMI', 'BP', 'S1', 'S2', 'S3', 'S4', 'S5', 'S6', 'Y']"
      ]
     },
     "execution_count": 3,
     "metadata": {},
     "output_type": "execute_result"
    }
   ],
   "source": [
    "## Atrybuty (Zmienna objaśniana) + Zmienna modelowana (Zmienne objaśniające)\n",
    "data.columns.tolist()"
   ]
  },
  {
   "cell_type": "markdown",
   "metadata": {},
   "source": [
    "#### Dokumentacja:\n",
    "\n",
    "   Poniżej przedstawiono: wykres punktowy dla osi poziomej *wyodrębnione zmienne objaśniające* (dla poszczególnych zmiennych, osobny wykres) vs dla osi pionowej *target* ze zmiennym rozmiarem i/lub kolorem znacznika.\n",
    "- Y - a quantitative measure of disease progression one year after baseline\n",
    "- Y - ilościowa miara progresji choroby rok po punkcie początkowym"
   ]
  },
  {
   "cell_type": "markdown",
   "metadata": {},
   "source": [
    "Wykres punktowy: Y(BP)"
   ]
  },
  {
   "cell_type": "code",
   "execution_count": 4,
   "metadata": {},
   "outputs": [
    {
     "data": {
      "text/plain": [
       "<matplotlib.collections.PathCollection at 0x7f150b344ad0>"
      ]
     },
     "execution_count": 4,
     "metadata": {},
     "output_type": "execute_result"
    },
    {
     "data": {
      "image/png": "[encoded data removed]",
      "text/plain": [
       "<Figure size 432x288 with 1 Axes>"
      ]
     },
     "metadata": {
      "needs_background": "light"
     },
     "output_type": "display_data"
    }
   ],
   "source": [
    "plt.scatter(data.BP, data.Y,  color='blue')"
   ]
  },
  {
   "cell_type": "markdown",
   "metadata": {},
   "source": [
    "Wykres punktowy: Y(BMI)"
   ]
  },
  {
   "cell_type": "code",
   "execution_count": 5,
   "metadata": {},
   "outputs": [
    {
     "data": {
      "text/plain": [
       "<matplotlib.collections.PathCollection at 0x7f150b344910>"
      ]
     },
     "execution_count": 5,
     "metadata": {},
     "output_type": "execute_result"
    },
    {
     "data": {
      "image/png": "[encoded data removed]",
      "text/plain": [
       "<Figure size 432x288 with 1 Axes>"
      ]
     },
     "metadata": {
      "needs_background": "light"
     },
     "output_type": "display_data"
    }
   ],
   "source": [
    "plt.scatter(data.BMI, data.Y,  color='red')"
   ]
  },
  {
   "cell_type": "markdown",
   "metadata": {},
   "source": [
    "Wykres punktowy: Y(AGE)"
   ]
  },
  {
   "cell_type": "code",
   "execution_count": 6,
   "metadata": {},
   "outputs": [
    {
     "data": {
      "text/plain": [
       "<matplotlib.collections.PathCollection at 0x7f150b279310>"
      ]
     },
     "execution_count": 6,
     "metadata": {},
     "output_type": "execute_result"
    },
    {
     "data": {
      "image/png": "[encoded data removed]",
      "text/plain": [
       "<Figure size 432x288 with 1 Axes>"
      ]
     },
     "metadata": {
      "needs_background": "light"
     },
     "output_type": "display_data"
    }
   ],
   "source": [
    "plt.scatter(data.AGE, data.Y, color='orange')"
   ]
  },
  {
   "cell_type": "markdown",
   "metadata": {},
   "source": [
    "Wykres punktowy: Y(S5)"
   ]
  },
  {
   "cell_type": "code",
   "execution_count": 7,
   "metadata": {},
   "outputs": [
    {
     "data": {
      "text/plain": [
       "<matplotlib.collections.PathCollection at 0x7f150b1e1f50>"
      ]
     },
     "execution_count": 7,
     "metadata": {},
     "output_type": "execute_result"
    },
    {
     "data": {
      "image/png": "[encoded data removed]",
      "text/plain": [
       "<Figure size 432x288 with 1 Axes>"
      ]
     },
     "metadata": {
      "needs_background": "light"
     },
     "output_type": "display_data"
    }
   ],
   "source": [
    "plt.scatter(data.S5, data.Y, color='gray')"
   ]
  },
  {
   "cell_type": "markdown",
   "metadata": {},
   "source": [
    "Wykres punktowy: Y(SEX)"
   ]
  },
  {
   "cell_type": "code",
   "execution_count": 8,
   "metadata": {},
   "outputs": [
    {
     "data": {
      "text/plain": [
       "<matplotlib.collections.PathCollection at 0x7f150b297f10>"
      ]
     },
     "execution_count": 8,
     "metadata": {},
     "output_type": "execute_result"
    },
    {
     "data": {
      "image/png": "[encoded data removed]",
      "text/plain": [
       "<Figure size 432x288 with 1 Axes>"
      ]
     },
     "metadata": {
      "needs_background": "light"
     },
     "output_type": "display_data"
    }
   ],
   "source": [
    "plt.scatter(data.SEX, data.Y, color='violet')"
   ]
  },
  {
   "cell_type": "markdown",
   "metadata": {},
   "source": [
    "Wykres punktowy: Y(S1)"
   ]
  },
  {
   "cell_type": "code",
   "execution_count": 9,
   "metadata": {},
   "outputs": [
    {
     "data": {
      "text/plain": [
       "<matplotlib.collections.PathCollection at 0x7f150b13ced0>"
      ]
     },
     "execution_count": 9,
     "metadata": {},
     "output_type": "execute_result"
    },
    {
     "data": {
      "image/png": "[encoded data removed]",
      "text/plain": [
       "<Figure size 432x288 with 1 Axes>"
      ]
     },
     "metadata": {
      "needs_background": "light"
     },
     "output_type": "display_data"
    }
   ],
   "source": [
    "plt.scatter(data.S1, data.Y, color='brown')"
   ]
  },
  {
   "cell_type": "markdown",
   "metadata": {},
   "source": [
    "Wykres punktowy: Y(S2)"
   ]
  },
  {
   "cell_type": "code",
   "execution_count": 10,
   "metadata": {},
   "outputs": [
    {
     "data": {
      "text/plain": [
       "<matplotlib.collections.PathCollection at 0x7f150b0b9350>"
      ]
     },
     "execution_count": 10,
     "metadata": {},
     "output_type": "execute_result"
    },
    {
     "data": {
      "image/png": "[encoded data removed]",
      "text/plain": [
       "<Figure size 432x288 with 1 Axes>"
      ]
     },
     "metadata": {
      "needs_background": "light"
     },
     "output_type": "display_data"
    }
   ],
   "source": [
    "plt.scatter(data.S2, data.Y, color='green')"
   ]
  },
  {
   "cell_type": "markdown",
   "metadata": {},
   "source": [
    "Wykres punktowy: Y(S6)"
   ]
  },
  {
   "cell_type": "code",
   "execution_count": 11,
   "metadata": {},
   "outputs": [
    {
     "data": {
      "text/plain": [
       "<matplotlib.collections.PathCollection at 0x7f150b029a90>"
      ]
     },
     "execution_count": 11,
     "metadata": {},
     "output_type": "execute_result"
    },
    {
     "data": {
      "image/png": "[encoded data removed]",
      "text/plain": [
       "<Figure size 432x288 with 1 Axes>"
      ]
     },
     "metadata": {
      "needs_background": "light"
     },
     "output_type": "display_data"
    }
   ],
   "source": [
    "plt.scatter(data.S6, data.Y, color='olive')"
   ]
  },
  {
   "cell_type": "markdown",
   "metadata": {},
   "source": [
    "Wykres punktowy: Y(S3)"
   ]
  },
  {
   "cell_type": "code",
   "execution_count": 12,
   "metadata": {},
   "outputs": [
    {
     "data": {
      "text/plain": [
       "<matplotlib.collections.PathCollection at 0x7f150af9da10>"
      ]
     },
     "execution_count": 12,
     "metadata": {},
     "output_type": "execute_result"
    },
    {
     "data": {
      "image/png": "[encoded data removed]",
      "text/plain": [
       "<Figure size 432x288 with 1 Axes>"
      ]
     },
     "metadata": {
      "needs_background": "light"
     },
     "output_type": "display_data"
    }
   ],
   "source": [
    "plt.scatter(data.S3, data.Y, color='black')"
   ]
  },
  {
   "cell_type": "markdown",
   "metadata": {},
   "source": [
    "Wykres punktowy: Y(S4)"
   ]
  },
  {
   "cell_type": "code",
   "execution_count": 13,
   "metadata": {},
   "outputs": [
    {
     "data": {
      "text/plain": [
       "<matplotlib.collections.PathCollection at 0x7f150af85c10>"
      ]
     },
     "execution_count": 13,
     "metadata": {},
     "output_type": "execute_result"
    },
    {
     "data": {
      "image/png": "[encoded data removed]",
      "text/plain": [
       "<Figure size 432x288 with 1 Axes>"
      ]
     },
     "metadata": {
      "needs_background": "light"
     },
     "output_type": "display_data"
    }
   ],
   "source": [
    "plt.scatter(data.S4, data.Y, color='yellow')"
   ]
  },
  {
   "cell_type": "code",
   "execution_count": 14,
   "metadata": {},
   "outputs": [
    {
     "name": "stdout",
     "output_type": "stream",
     "text": [
      "S5\n",
      "0.565882592442744\n",
      "BMI\n",
      "0.5864501344746887\n",
      "S4\n",
      "0.43045288474477267\n",
      "BP\n",
      "0.4414817585625712\n",
      "S2\n",
      "0.17405358696874254\n",
      "S6\n",
      "0.382483484248581\n",
      "S3\n",
      "-0.39478925067091863\n",
      "AGE\n",
      "0.18788875071891972\n",
      "S1\n",
      "0.21202248101455065\n",
      "SEX\n",
      "0.04306199845160534\n"
     ]
    }
   ],
   "source": [
    "print('S5')\n",
    "print(data.S5.corr(data.Y)) # pandas\n",
    "print('BMI')\n",
    "print(data.BMI.corr(data.Y)) # pandas\n",
    "print('S4')\n",
    "print(data.S4.corr(data.Y) )# pandas\n",
    "print('BP')\n",
    "print(data.BP.corr(data.Y)) # pandas\n",
    "print('S2')\n",
    "print(data.S2.corr(data.Y) )# pandas\n",
    "print('S6')\n",
    "print(data.S6.corr(data.Y)) # pandas\n",
    "print('S3')\n",
    "print(data.S3.corr(data.Y)) # pandas\n",
    "print('AGE')\n",
    "print(data.AGE.corr(data.Y)) # pandas\n",
    "print('S1')\n",
    "print(data.S1.corr(data.Y)) # pandas\n",
    "print('SEX')\n",
    "print(data.SEX.corr(data.Y)) # pandas"
   ]
  },
  {
   "cell_type": "code",
   "execution_count": 15,
   "metadata": {},
   "outputs": [
    {
     "name": "stdout",
     "output_type": "stream",
     "text": [
      "S4\n",
      "0.43045288474477267\n",
      "BP\n",
      "0.4414817585625712\n",
      "S2\n",
      "0.17405358696874254\n",
      "S6\n",
      "0.382483484248581\n",
      "S3\n",
      "-0.39478925067091863\n",
      "AGE\n",
      "0.18788875071891972\n",
      "S1\n",
      "0.21202248101455065\n",
      "SEX\n",
      "0.04306199845160534\n"
     ]
    }
   ],
   "source": [
    "# print('S5')\n",
    "# print(data.S5.corr(data.Y)) # pandas\n",
    "# print('BMI')\n",
    "# print(data.BMI.corr(data.Y)) # pandas\n",
    "print('S4')\n",
    "print(data.S4.corr(data.Y) )# pandas\n",
    "print('BP')\n",
    "print(data.BP.corr(data.Y)) # pandas\n",
    "print('S2')\n",
    "print(data.S2.corr(data.Y) )# pandas\n",
    "print('S6')\n",
    "print(data.S6.corr(data.Y)) # pandas\n",
    "print('S3')\n",
    "print(data.S3.corr(data.Y)) # pandas\n",
    "print('AGE')\n",
    "print(data.AGE.corr(data.Y)) # pandas\n",
    "print('S1')\n",
    "print(data.S1.corr(data.Y)) # pandas\n",
    "print('SEX')\n",
    "print(data.SEX.corr(data.Y)) # pandas"
   ]
  },
  {
   "cell_type": "markdown",
   "metadata": {},
   "source": [
    "#### Dokumentacja:\n",
    "\n",
    "Dla pozostałych atrybutów, wybrano ten, który uzyskał najlepsze wyniki pomiaru jakości regresji. Na podstawie obliczenia korelacji z „innymi” szeregami, z wyłączeniem braków danych. Wybrano atrybut: \"BP\"."
   ]
  },
  {
   "cell_type": "code",
   "execution_count": 16,
   "metadata": {},
   "outputs": [],
   "source": [
    "corr = data.corr()\n",
    "# corr"
   ]
  },
  {
   "cell_type": "code",
   "execution_count": 17,
   "metadata": {},
   "outputs": [
    {
     "data": {
      "text/plain": [
       "<matplotlib.axes._subplots.AxesSubplot at 0x7f150a71fc90>"
      ]
     },
     "execution_count": 17,
     "metadata": {},
     "output_type": "execute_result"
    },
    {
     "data": {
      "image/png": "[encoded data removed]",
      "text/plain": [
       "<Figure size 432x288 with 2 Axes>"
      ]
     },
     "metadata": {
      "needs_background": "light"
     },
     "output_type": "display_data"
    }
   ],
   "source": [
    "import seaborn as sns\n",
    "sns.heatmap(corr, \n",
    "         xticklabels=corr.columns, \n",
    "         yticklabels=corr.columns)"
   ]
  },
  {
   "cell_type": "markdown",
   "metadata": {},
   "source": [
    "#### Dokumentacja:\n",
    "Poniżej przedstawiono sposób wykrywania brakujących wartości.\n",
    "Zwraca prawd lub fałsz o tym samym rozmiarze wskazujący, czy wartości to NA. Wartości NA, takie jak None lub :attr: numpy.NaN, są mapowane na wartości True. Wszystko inne jest mapowane na wartości False.\n",
    "\n",
    "#### Nie wykryto brakujących wartości!"
   ]
  },
  {
   "cell_type": "code",
   "execution_count": 18,
   "metadata": {},
   "outputs": [
    {
     "data": {
      "text/plain": [
       "False"
      ]
     },
     "execution_count": 18,
     "metadata": {},
     "output_type": "execute_result"
    }
   ],
   "source": [
    "data.isnull().values.any()"
   ]
  },
  {
   "cell_type": "markdown",
   "metadata": {},
   "source": [
    "Zmienna objaśniająca – zmienna w modelu statystycznym, na podstawie której wylicza się zmienną objaśnianą. Zmiennych objaśniających zwykle występuje wiele w jednym modelu. U nas to są: ['AGE', 'SEX', 'BMI', 'BP', 'S1', 'S2', 'S3', 'S4', 'S5', 'S6']\n",
    "\n",
    "Zależne (inne nazwy: objaśniane, target) – są to zmienne określające własność obiektu, o której chcemy wnioskować. Czyli: ['Y']\n",
    "\n",
    "Model predykcyjny opisuje zależności między zmiennymi objaśniającymi a targetem. Pozwala on w oparciu o zmienne objaśniające domniemać jaka jest wartość target."
   ]
  },
  {
   "cell_type": "code",
   "execution_count": 19,
   "metadata": {},
   "outputs": [
    {
     "data": {
      "text/html": [
       "<div>\n",
       "<style scoped>\n",
       "    .dataframe tbody tr th:only-of-type {\n",
       "        vertical-align: middle;\n",
       "    }\n",
       "\n",
       "    .dataframe tbody tr th {\n",
       "        vertical-align: top;\n",
       "    }\n",
       "\n",
       "    .dataframe thead th {\n",
       "        text-align: right;\n",
       "    }\n",
       "</style>\n",
       "<table border=\"1\" class=\"dataframe\">\n",
       "  <thead>\n",
       "    <tr style=\"text-align: right;\">\n",
       "      <th></th>\n",
       "      <th>AGE</th>\n",
       "      <th>SEX</th>\n",
       "      <th>BMI</th>\n",
       "      <th>BP</th>\n",
       "      <th>S1</th>\n",
       "      <th>S2</th>\n",
       "      <th>S3</th>\n",
       "      <th>S4</th>\n",
       "      <th>S5</th>\n",
       "      <th>S6</th>\n",
       "    </tr>\n",
       "  </thead>\n",
       "  <tbody>\n",
       "    <tr>\n",
       "      <th>0</th>\n",
       "      <td>59</td>\n",
       "      <td>2</td>\n",
       "      <td>32.1</td>\n",
       "      <td>101.00</td>\n",
       "      <td>157</td>\n",
       "      <td>93.2</td>\n",
       "      <td>38.0</td>\n",
       "      <td>4.00</td>\n",
       "      <td>4.8598</td>\n",
       "      <td>87</td>\n",
       "    </tr>\n",
       "    <tr>\n",
       "      <th>1</th>\n",
       "      <td>48</td>\n",
       "      <td>1</td>\n",
       "      <td>21.6</td>\n",
       "      <td>87.00</td>\n",
       "      <td>183</td>\n",
       "      <td>103.2</td>\n",
       "      <td>70.0</td>\n",
       "      <td>3.00</td>\n",
       "      <td>3.8918</td>\n",
       "      <td>69</td>\n",
       "    </tr>\n",
       "    <tr>\n",
       "      <th>2</th>\n",
       "      <td>72</td>\n",
       "      <td>2</td>\n",
       "      <td>30.5</td>\n",
       "      <td>93.00</td>\n",
       "      <td>156</td>\n",
       "      <td>93.6</td>\n",
       "      <td>41.0</td>\n",
       "      <td>4.00</td>\n",
       "      <td>4.6728</td>\n",
       "      <td>85</td>\n",
       "    </tr>\n",
       "    <tr>\n",
       "      <th>3</th>\n",
       "      <td>24</td>\n",
       "      <td>1</td>\n",
       "      <td>25.3</td>\n",
       "      <td>84.00</td>\n",
       "      <td>198</td>\n",
       "      <td>131.4</td>\n",
       "      <td>40.0</td>\n",
       "      <td>5.00</td>\n",
       "      <td>4.8903</td>\n",
       "      <td>89</td>\n",
       "    </tr>\n",
       "    <tr>\n",
       "      <th>4</th>\n",
       "      <td>50</td>\n",
       "      <td>1</td>\n",
       "      <td>23.0</td>\n",
       "      <td>101.00</td>\n",
       "      <td>192</td>\n",
       "      <td>125.4</td>\n",
       "      <td>52.0</td>\n",
       "      <td>4.00</td>\n",
       "      <td>4.2905</td>\n",
       "      <td>80</td>\n",
       "    </tr>\n",
       "    <tr>\n",
       "      <th>...</th>\n",
       "      <td>...</td>\n",
       "      <td>...</td>\n",
       "      <td>...</td>\n",
       "      <td>...</td>\n",
       "      <td>...</td>\n",
       "      <td>...</td>\n",
       "      <td>...</td>\n",
       "      <td>...</td>\n",
       "      <td>...</td>\n",
       "      <td>...</td>\n",
       "    </tr>\n",
       "    <tr>\n",
       "      <th>437</th>\n",
       "      <td>60</td>\n",
       "      <td>2</td>\n",
       "      <td>28.2</td>\n",
       "      <td>112.00</td>\n",
       "      <td>185</td>\n",
       "      <td>113.8</td>\n",
       "      <td>42.0</td>\n",
       "      <td>4.00</td>\n",
       "      <td>4.9836</td>\n",
       "      <td>93</td>\n",
       "    </tr>\n",
       "    <tr>\n",
       "      <th>438</th>\n",
       "      <td>47</td>\n",
       "      <td>2</td>\n",
       "      <td>24.9</td>\n",
       "      <td>75.00</td>\n",
       "      <td>225</td>\n",
       "      <td>166.0</td>\n",
       "      <td>42.0</td>\n",
       "      <td>5.00</td>\n",
       "      <td>4.4427</td>\n",
       "      <td>102</td>\n",
       "    </tr>\n",
       "    <tr>\n",
       "      <th>439</th>\n",
       "      <td>60</td>\n",
       "      <td>2</td>\n",
       "      <td>24.9</td>\n",
       "      <td>99.67</td>\n",
       "      <td>162</td>\n",
       "      <td>106.6</td>\n",
       "      <td>43.0</td>\n",
       "      <td>3.77</td>\n",
       "      <td>4.1271</td>\n",
       "      <td>95</td>\n",
       "    </tr>\n",
       "    <tr>\n",
       "      <th>440</th>\n",
       "      <td>36</td>\n",
       "      <td>1</td>\n",
       "      <td>30.0</td>\n",
       "      <td>95.00</td>\n",
       "      <td>201</td>\n",
       "      <td>125.2</td>\n",
       "      <td>42.0</td>\n",
       "      <td>4.79</td>\n",
       "      <td>5.1299</td>\n",
       "      <td>85</td>\n",
       "    </tr>\n",
       "    <tr>\n",
       "      <th>441</th>\n",
       "      <td>36</td>\n",
       "      <td>1</td>\n",
       "      <td>19.6</td>\n",
       "      <td>71.00</td>\n",
       "      <td>250</td>\n",
       "      <td>133.2</td>\n",
       "      <td>97.0</td>\n",
       "      <td>3.00</td>\n",
       "      <td>4.5951</td>\n",
       "      <td>92</td>\n",
       "    </tr>\n",
       "  </tbody>\n",
       "</table>\n",
       "<p>442 rows × 10 columns</p>\n",
       "</div>"
      ],
      "text/plain": [
       "     AGE  SEX   BMI      BP   S1     S2    S3    S4      S5   S6\n",
       "0     59    2  32.1  101.00  157   93.2  38.0  4.00  4.8598   87\n",
       "1     48    1  21.6   87.00  183  103.2  70.0  3.00  3.8918   69\n",
       "2     72    2  30.5   93.00  156   93.6  41.0  4.00  4.6728   85\n",
       "3     24    1  25.3   84.00  198  131.4  40.0  5.00  4.8903   89\n",
       "4     50    1  23.0  101.00  192  125.4  52.0  4.00  4.2905   80\n",
       "..   ...  ...   ...     ...  ...    ...   ...   ...     ...  ...\n",
       "437   60    2  28.2  112.00  185  113.8  42.0  4.00  4.9836   93\n",
       "438   47    2  24.9   75.00  225  166.0  42.0  5.00  4.4427  102\n",
       "439   60    2  24.9   99.67  162  106.6  43.0  3.77  4.1271   95\n",
       "440   36    1  30.0   95.00  201  125.2  42.0  4.79  5.1299   85\n",
       "441   36    1  19.6   71.00  250  133.2  97.0  3.00  4.5951   92\n",
       "\n",
       "[442 rows x 10 columns]"
      ]
     },
     "execution_count": 19,
     "metadata": {},
     "output_type": "execute_result"
    }
   ],
   "source": [
    "dataset = data.iloc[:,:-1] # wyodrebniamy zmienne objaśniające bez targetu\n",
    "dataset"
   ]
  },
  {
   "cell_type": "markdown",
   "metadata": {},
   "source": [
    "Podział tablicy lub macierzy na losowe podzbiory treningów i testów"
   ]
  },
  {
   "cell_type": "code",
   "execution_count": 20,
   "metadata": {},
   "outputs": [],
   "source": [
    "# Wyodrębniamy dane treningowe i testowe\n",
    "from sklearn.model_selection import train_test_split\n",
    "X_train, X_test, y_train, y_test = train_test_split(data[['BP']], data.Y, test_size=0.7, random_state=0)"
   ]
  },
  {
   "cell_type": "markdown",
   "metadata": {},
   "source": [
    "#### Współczynnik R-kwadrat\n",
    "Współczynnik R-kwadrat jest miarą jakości dopasowania modelu. Mówi on o tym, jaki procent jednej zmiennej wyjaśnia zmienność drugiej zmiennej. Przyjmuje on wartości od 0 do 1."
   ]
  },
  {
   "cell_type": "code",
   "execution_count": 21,
   "metadata": {},
   "outputs": [
    {
     "data": {
      "text/plain": [
       "0.17165634082461081"
      ]
     },
     "execution_count": 21,
     "metadata": {},
     "output_type": "execute_result"
    }
   ],
   "source": [
    "# 1. Tworzymy obiekt modelu\n",
    "model = LinearRegression()\n",
    "# 2. Trenujemy model na danych treningowych\n",
    "model.fit(X_train, y_train)\n",
    "# 3. Sprawdzamy poprawność działania modelu - model dokonuje predykcji na danych testowych i porównuje jej wyniki\n",
    "# z prawdziwymi etykietami tych danych - zwraca R^2 \n",
    "model.score(X_test, y_test)"
   ]
  },
  {
   "cell_type": "markdown",
   "metadata": {},
   "source": [
    "#### Prosta regresja liniowa\n",
    "Zaczniemy od najbardziej znanej regresji liniowej, prostoliniowego dopasowania do danych. Prosty krój to model formy:\n",
    "- y = ax + b\n",
    "gdzie 'a' jest powszechnie znane jako nachylenie, a 'b' jest powszechnie znane jako punkt przecięcia.\n",
    "\n",
    "Zatem:\n",
    "- Nachylenie modelu, wyznaczamy na podstawie: model.coef_\n",
    "- Przecięcie modelu, wyznaczamy na podstawie: model.intercept_\n",
    "\n",
    "W naszym przypadku:\n",
    "- Nachylenie modelu: 2.7755137\n",
    "- Przechwycenie modelu: -114.42573768460622"
   ]
  },
  {
   "cell_type": "code",
   "execution_count": 22,
   "metadata": {},
   "outputs": [
    {
     "data": {
      "text/plain": [
       "array([2.7755137])"
      ]
     },
     "execution_count": 22,
     "metadata": {},
     "output_type": "execute_result"
    }
   ],
   "source": [
    "model.coef_ # Podejrzyjmy współczynniki modelu, nachylenie modelu"
   ]
  },
  {
   "cell_type": "code",
   "execution_count": 23,
   "metadata": {},
   "outputs": [
    {
     "data": {
      "text/plain": [
       "-114.42573768460622"
      ]
     },
     "execution_count": 23,
     "metadata": {},
     "output_type": "execute_result"
    }
   ],
   "source": [
    "model.intercept_ # Punkt przecięcia prostej z osią Y"
   ]
  },
  {
   "cell_type": "markdown",
   "metadata": {},
   "source": [
    "Przewiduj za pomocą modelu liniowego."
   ]
  },
  {
   "cell_type": "code",
   "execution_count": 24,
   "metadata": {},
   "outputs": [],
   "source": [
    "predykcje = model.predict(X_test)"
   ]
  },
  {
   "cell_type": "code",
   "execution_count": 25,
   "metadata": {},
   "outputs": [],
   "source": [
    "# predykcje"
   ]
  },
  {
   "cell_type": "markdown",
   "metadata": {},
   "source": [
    "#### Błąd średniokwadratowy:\n",
    "Błąd średniokwadratowy to różnica między wartościami szacowanymi a wynikami. Przewidywana wartość opiera się na pewnym równaniu i mówi, czego oczekujesz jako średnia, ale uzyskany wynik może różnić się od tej przewidywanej, co jest niewielkim błędem od szacowanej wartości. Ta różnica nazywa się MSE. To określa, jak dobre jest oszacowanie na podstawie twojego równania."
   ]
  },
  {
   "cell_type": "code",
   "execution_count": 26,
   "metadata": {},
   "outputs": [
    {
     "name": "stdout",
     "output_type": "stream",
     "text": [
      "Mean squared error: 4655.78\n"
     ]
    }
   ],
   "source": [
    "# Mean squared error\n",
    "print(\"Mean squared error: %.2f\"\n",
    "      % np.mean((model.predict(X_test) - y_test) ** 2))"
   ]
  },
  {
   "cell_type": "markdown",
   "metadata": {},
   "source": [
    "Poniższy wykres rozrzutu danych dotyczących średniego ciśnienia krwi i ilościowej miary progresji choroby rok po punkcie początkowum u pacjentów z cukrzycą wraz z dopasowaną prostą regresji y=2.7755137x-114.42573768460622.\n",
    "\n",
    "Gdzie:\n",
    "- y - ilościowej miary progresji choroby rok po punkcie początkowum\n",
    "- x - średnie ciśnienie krwi"
   ]
  },
  {
   "cell_type": "code",
   "execution_count": 27,
   "metadata": {},
   "outputs": [
    {
     "data": {
      "image/png": "[encoded data removed]",
      "text/plain": [
       "<Figure size 432x288 with 1 Axes>"
      ]
     },
     "metadata": {
      "needs_background": "light"
     },
     "output_type": "display_data"
    }
   ],
   "source": [
    "# Poniżej wykres punktowy *y* vs *x* ze zmiennym rozmiarem i/lub kolorem znacznika.\n",
    "plt.scatter(X_test, y_test, color='red') \n",
    "# Wykres liniowy y od x.\n",
    "plt.plot(X_test, predykcje, color='blue', linewidth=3)\n",
    "plt.show()"
   ]
  },
  {
   "cell_type": "markdown",
   "metadata": {},
   "source": [
    "Podział tablicy lub macierzy na losowe podzbiory treningów i testów wszystkich zmiennych objaśniających."
   ]
  },
  {
   "cell_type": "code",
   "execution_count": 28,
   "metadata": {},
   "outputs": [],
   "source": [
    "# Wyodrębniamy dane treningowe i testowe\n",
    "from sklearn.model_selection import train_test_split\n",
    "X_train, X_test, y_train, y_test = train_test_split(data[\n",
    "    ['AGE', 'SEX', 'BMI', 'BP', 'S1', 'S2', 'S3', 'S4', 'S5', 'S6']], data.Y, test_size=0.2, random_state=0)"
   ]
  },
  {
   "cell_type": "code",
   "execution_count": 29,
   "metadata": {},
   "outputs": [
    {
     "data": {
      "text/plain": [
       "0.33223321731061806"
      ]
     },
     "execution_count": 29,
     "metadata": {},
     "output_type": "execute_result"
    }
   ],
   "source": [
    "# 1. Tworzymy obiekt modelu\n",
    "model1 = LinearRegression()\n",
    "# 2. Trenujemy model na danych treningowych\n",
    "model1.fit(X_train, y_train)\n",
    "# 3. Sprawdzamy poprawność działania modelu - model dokonuje predykcji na danych testowych i porównuje jej wyniki\n",
    "# z prawdziwymi etykietami tych danych - zwraca R^2 \n",
    "model1.score(X_test, y_test)"
   ]
  },
  {
   "cell_type": "code",
   "execution_count": 30,
   "metadata": {},
   "outputs": [
    {
     "data": {
      "text/plain": [
       "<matplotlib.collections.PathCollection at 0x7f1508590910>"
      ]
     },
     "execution_count": 30,
     "metadata": {},
     "output_type": "execute_result"
    },
    {
     "data": {
      "image/png": "[encoded data removed]",
      "text/plain": [
       "<Figure size 432x288 with 1 Axes>"
      ]
     },
     "metadata": {
      "needs_background": "light"
     },
     "output_type": "display_data"
    }
   ],
   "source": [
    "predykcje = model1.predict(X_test)\n",
    "plt.scatter(y_test, predykcje)"
   ]
  },
  {
   "cell_type": "code",
   "execution_count": 31,
   "metadata": {},
   "outputs": [],
   "source": [
    "from sklearn.model_selection import train_test_split\n",
    "X_train, X_test, y_train, y_test = train_test_split(dataset, data.Y, test_size=0.5, random_state=0)"
   ]
  },
  {
   "cell_type": "code",
   "execution_count": 32,
   "metadata": {},
   "outputs": [
    {
     "data": {
      "text/plain": [
       "0.43774971182540967"
      ]
     },
     "execution_count": 32,
     "metadata": {},
     "output_type": "execute_result"
    }
   ],
   "source": [
    "# 1. Tworzymy obiekt modelu\n",
    "model2 = LinearRegression()\n",
    "# 2. Trenujemy model na danych treningowych\n",
    "model2.fit(X_train, y_train)\n",
    "# 3. Sprawdzamy poprawność działania modelu - model dokonuje predykcji na danych testowych i porównuje jej wyniki\n",
    "# z prawdziwymi etykietami tych danych - zwraca R^2 \n",
    "model2.score(X_test, y_test)"
   ]
  },
  {
   "cell_type": "code",
   "execution_count": 34,
   "metadata": {},
   "outputs": [
    {
     "name": "stdout",
     "output_type": "stream",
     "text": [
      "Tworzenie listy z współczynnika modelu odpowiadającego za nachylenie modelu\n",
      "[-0.07412108291445282, -25.34464211440403, 6.085875191467618, 1.1208623743115846, -0.952381186056526, 0.6193406573356073, 0.08650594731191841, 4.293962891990378, 76.93077629943933, 0.05268164074391465]\n",
      "\n",
      "Tworzenie etykiet z zmiennych objaśniających\n",
      "['AGE', 'SEX', 'BMI', 'BP', 'S1', 'S2', 'S3', 'S4', 'S5', 'S6']\n",
      "\n",
      "Przypisanie DataFrame (struktura danych która zawiera oznakowane osie (wiersze i kolumny)) do nowej zmiennej w tym przypadku 'features'\n",
      "Empty DataFrame\n",
      "Columns: []\n",
      "Index: []\n",
      "\n",
      "Wypełnienie DataFrame wartościami z listy o nazwie labels zawierających etykiety z zmiennych objaśniających\n",
      "  Features\n",
      "0      AGE\n",
      "1      SEX\n",
      "2      BMI\n",
      "3       BP\n",
      "4       S1\n",
      "5       S2\n",
      "6       S3\n",
      "7       S4\n",
      "8       S5\n",
      "9       S6\n",
      "\n",
      "Wypełnienie DataFrae wartościami z listy o nazwie coeff zawierającej współczynniki modelu odpowiadających za nachylenie modelu w wartościach dziesiętnych\n",
      "  Features  importance\n",
      "0      AGE   -0.074121\n",
      "1      SEX  -25.344642\n",
      "2      BMI    6.085875\n",
      "3       BP    1.120862\n",
      "4       S1   -0.952381\n",
      "5       S2    0.619341\n",
      "6       S3    0.086506\n",
      "7       S4    4.293963\n",
      "8       S5   76.930776\n",
      "9       S6    0.052682\n",
      "\n",
      "Sortowanie rosnąco współczynnika modelu odpowiadającego za nachylenie modelu do osi OX\n",
      "  Features  importance\n",
      "1      SEX  -25.344642\n",
      "4       S1   -0.952381\n",
      "0      AGE   -0.074121\n",
      "9       S6    0.052682\n",
      "6       S3    0.086506\n",
      "5       S2    0.619341\n",
      "3       BP    1.120862\n",
      "7       S4    4.293963\n",
      "2      BMI    6.085875\n",
      "8       S5   76.930776\n",
      "\n",
      "Zwracamy wartość True lub False w zależności czy współczynnik modelu odpowiadający za nachylenie modelu do osi OX jest większy od 0, to wtedy zwracamy wartość True w innym przypadku zwracamy wartość False\n",
      "1    False\n",
      "4    False\n",
      "0    False\n",
      "9     True\n",
      "6     True\n",
      "5     True\n",
      "3     True\n",
      "7     True\n",
      "2     True\n",
      "8     True\n",
      "Name: positive, dtype: bool\n",
      "\n",
      "Ndarray jednowymiarowy z etykietami osi dla osi OY labels, dla osi OX coeff. Rodzaj wykresu: poziomy wykres słupkowy. Mapujący w zależności od zwracanej wartości boolen przez features.positive w tym przypadku. Jeśli zwracana wartość jest True to kolor niebieski, jeśli False to kolor czerwony\n"
     ]
    },
    {
     "data": {
      "text/plain": [
       "Text(0.5, 0, 'Importance - Współczynniki modelu odpowiadających za nachylenie modelu')"
      ]
     },
     "execution_count": 34,
     "metadata": {},
     "output_type": "execute_result"
    },
    {
     "data": {
      "image/png": "[encoded data removed]",
      "text/plain": [
       "<Figure size 792x432 with 1 Axes>"
      ]
     },
     "metadata": {
      "needs_background": "light"
     },
     "output_type": "display_data"
    }
   ],
   "source": [
    "# Wizualizacja współczynników zmiennych w przypadku więcej niż jednej zmiennej objaśniającej\n",
    "print(\"Tworzenie listy z współczynnika modelu odpowiadającego za nachylenie modelu\")\n",
    "coeff = list(model2.coef_)\n",
    "print(coeff)\n",
    "print()\n",
    "print(\"Tworzenie etykiet z zmiennych objaśniających\")\n",
    "labels = list(X_train.columns)\n",
    "print(labels)\n",
    "print()\n",
    "print(\"Przypisanie DataFrame (struktura danych która zawiera oznakowane osie (wiersze i kolumny)) do nowej zmiennej w tym przypadku 'features'\")\n",
    "features = pd.DataFrame()\n",
    "print(features)\n",
    "print()\n",
    "print(\"Wypełnienie DataFrame wartościami z listy o nazwie labels zawierających etykiety z zmiennych objaśniających\")\n",
    "features['Features'] = labels\n",
    "print(features)\n",
    "print()\n",
    "print(\"Wypełnienie DataFrae wartościami z listy o nazwie coeff zawierającej współczynniki modelu odpowiadających za nachylenie modelu w wartościach dziesiętnych\")\n",
    "features['importance'] = coeff\n",
    "print(features)\n",
    "print()\n",
    "print(\"Sortowanie rosnąco współczynnika modelu odpowiadającego za nachylenie modelu do osi OX\")\n",
    "features.sort_values(by=['importance'], ascending=True, inplace=True)\n",
    "print(features)\n",
    "print()\n",
    "print(\"Zwracamy wartość True lub False w zależności czy współczynnik modelu odpowiadający za nachylenie modelu do osi OX jest większy od 0, to wtedy zwracamy wartość True w innym przypadku zwracamy wartość False\")\n",
    "features['positive'] = features['importance'] > 0\n",
    "print(features['positive'])\n",
    "print()\n",
    "# Ustaw indeks DataFrame na labels, które zawierają ektykiety z zmiennych objaśniających\n",
    "features.set_index('Features', inplace=True)\n",
    "print(\"Ndarray jednowymiarowy z etykietami osi dla osi OY labels, dla osi OX coeff. Rodzaj wykresu: poziomy wykres słupkowy. Mapujący w zależności od zwracanej wartości boolen przez features.positive w tym przypadku. Jeśli zwracana wartość jest True to kolor niebieski, jeśli False to kolor czerwony\")\n",
    "features.importance.plot(kind='barh', figsize=(11, 6),color = features.positive.map({True: 'blue', False: 'red'}))\n",
    "plt.xlabel('Importance - Współczynniki modelu odpowiadających za nachylenie modelu')"
   ]
  },
  {
   "cell_type": "markdown",
   "metadata": {},
   "source": [
    "#### Wnioski z powyższego wykresu:\n",
    "\n",
    "porównaj najlepiej działający model z regresją wyuczoną na wszystkich zmiennych objaśniających."
   ]
  },
  {
   "cell_type": "markdown",
   "metadata": {},
   "source": [
    "Na podstawie powyższego wykresu, możemy określić dla jakich zmiennych objaśniających regresja liniowa będzie rosnąca, a dla jakich malejąca. Jeśli chodz o porównanie najlepiej działającego modelu z regresją wyuczoną na wszystkich zmiennych objaśniających. Można dojść do wniosku, że najlepiej działający model w tym przypadku BP, który uzyskuje najlepsze wyniki pomiaru jakości regresji. Współczynnik modelu odpowiadającego za nachylenie modelu nie ma wpływu na najlepszy wynik pomiaru jakości regresji. Powyższa analiza pozwala nam określić wielkość współczynnika modelu odpowiadającego za nachylenie modelu w stosunku do innych zmiennych objaśniających."
   ]
  }
 ],
 "metadata": {
  "kernelspec": {
   "display_name": "Python 3",
   "language": "python",
   "name": "python3"
  },
  "language_info": {
   "codemirror_mode": {
    "name": "ipython",
    "version": 3
   },
   "file_extension": ".py",
   "mimetype": "text/x-python",
   "name": "python",
   "nbconvert_exporter": "python",
   "pygments_lexer": "ipython3",
   "version": "3.7.6"
  }
 },
 "nbformat": 4,
 "nbformat_minor": 4
}
